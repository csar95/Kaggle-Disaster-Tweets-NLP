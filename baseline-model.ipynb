{
 "cells": [
  {
   "cell_type": "code",
   "execution_count": 1,
   "id": "9649f1e3-1ba7-4163-b095-9015fd206f04",
   "metadata": {},
   "outputs": [],
   "source": [
    "import pandas as pd\n",
    "pd.set_option('display.max_rows', None)\n",
    "import numpy as np\n",
    "import seaborn as sns\n",
    "import matplotlib.pyplot as plt\n",
    "import plotly.express as px"
   ]
  },
  {
   "cell_type": "markdown",
   "id": "d03d1f90-0b1a-40c4-b20b-977978d7d2dc",
   "metadata": {},
   "source": [
    "# Carga de datos"
   ]
  },
  {
   "cell_type": "code",
   "execution_count": 2,
   "id": "2bcade7a-dcd3-4c30-b45c-48d1917834c5",
   "metadata": {},
   "outputs": [
    {
     "name": "stdout",
     "output_type": "stream",
     "text": [
      "(7613, 5)\n"
     ]
    },
    {
     "data": {
      "text/html": [
       "<div>\n",
       "<style scoped>\n",
       "    .dataframe tbody tr th:only-of-type {\n",
       "        vertical-align: middle;\n",
       "    }\n",
       "\n",
       "    .dataframe tbody tr th {\n",
       "        vertical-align: top;\n",
       "    }\n",
       "\n",
       "    .dataframe thead th {\n",
       "        text-align: right;\n",
       "    }\n",
       "</style>\n",
       "<table border=\"1\" class=\"dataframe\">\n",
       "  <thead>\n",
       "    <tr style=\"text-align: right;\">\n",
       "      <th></th>\n",
       "      <th>id</th>\n",
       "      <th>keyword</th>\n",
       "      <th>location</th>\n",
       "      <th>text</th>\n",
       "      <th>target</th>\n",
       "    </tr>\n",
       "  </thead>\n",
       "  <tbody>\n",
       "    <tr>\n",
       "      <th>4212</th>\n",
       "      <td>5983</td>\n",
       "      <td>hazard</td>\n",
       "      <td>NaN</td>\n",
       "      <td>8/6/2015@1:08 PM: HAZARD IN HIGH TRAFFIC AREA ...</td>\n",
       "      <td>1</td>\n",
       "    </tr>\n",
       "    <tr>\n",
       "      <th>5246</th>\n",
       "      <td>7502</td>\n",
       "      <td>oil%20spill</td>\n",
       "      <td>Amarillo</td>\n",
       "      <td>'California: Spring Oil Spill Estimate Grows '...</td>\n",
       "      <td>1</td>\n",
       "    </tr>\n",
       "    <tr>\n",
       "      <th>2786</th>\n",
       "      <td>4008</td>\n",
       "      <td>disaster</td>\n",
       "      <td>chillin at ceder rapids</td>\n",
       "      <td>Beautiful disaster // Jon McLaughlin is such a...</td>\n",
       "      <td>0</td>\n",
       "    </tr>\n",
       "  </tbody>\n",
       "</table>\n",
       "</div>"
      ],
      "text/plain": [
       "        id      keyword                 location  \\\n",
       "4212  5983       hazard                      NaN   \n",
       "5246  7502  oil%20spill                 Amarillo   \n",
       "2786  4008     disaster  chillin at ceder rapids   \n",
       "\n",
       "                                                   text  target  \n",
       "4212  8/6/2015@1:08 PM: HAZARD IN HIGH TRAFFIC AREA ...       1  \n",
       "5246  'California: Spring Oil Spill Estimate Grows '...       1  \n",
       "2786  Beautiful disaster // Jon McLaughlin is such a...       0  "
      ]
     },
     "execution_count": 2,
     "metadata": {},
     "output_type": "execute_result"
    }
   ],
   "source": [
    "train_data = pd.read_csv(\"data/train.csv\")\n",
    "print(train_data.shape)\n",
    "train_data.sample(3)"
   ]
  },
  {
   "cell_type": "code",
   "execution_count": 3,
   "id": "45556839-00cd-4aab-917f-4132ad017a04",
   "metadata": {},
   "outputs": [
    {
     "name": "stdout",
     "output_type": "stream",
     "text": [
      "(3263, 4)\n"
     ]
    },
    {
     "data": {
      "text/html": [
       "<div>\n",
       "<style scoped>\n",
       "    .dataframe tbody tr th:only-of-type {\n",
       "        vertical-align: middle;\n",
       "    }\n",
       "\n",
       "    .dataframe tbody tr th {\n",
       "        vertical-align: top;\n",
       "    }\n",
       "\n",
       "    .dataframe thead th {\n",
       "        text-align: right;\n",
       "    }\n",
       "</style>\n",
       "<table border=\"1\" class=\"dataframe\">\n",
       "  <thead>\n",
       "    <tr style=\"text-align: right;\">\n",
       "      <th></th>\n",
       "      <th>id</th>\n",
       "      <th>keyword</th>\n",
       "      <th>location</th>\n",
       "      <th>text</th>\n",
       "    </tr>\n",
       "  </thead>\n",
       "  <tbody>\n",
       "    <tr>\n",
       "      <th>3151</th>\n",
       "      <td>10460</td>\n",
       "      <td>wild%20fires</td>\n",
       "      <td>Where e'er the mood takes me</td>\n",
       "      <td>@MrRat395 Are those wild fires getting anywher...</td>\n",
       "    </tr>\n",
       "    <tr>\n",
       "      <th>858</th>\n",
       "      <td>2812</td>\n",
       "      <td>cyclone</td>\n",
       "      <td>NYC</td>\n",
       "      <td>@orochinagicom GIGATECH CYCLONE</td>\n",
       "    </tr>\n",
       "    <tr>\n",
       "      <th>379</th>\n",
       "      <td>1220</td>\n",
       "      <td>blizzard</td>\n",
       "      <td>Florida</td>\n",
       "      <td>Whoa! This new legend will be fun! http://t.co...</td>\n",
       "    </tr>\n",
       "  </tbody>\n",
       "</table>\n",
       "</div>"
      ],
      "text/plain": [
       "         id       keyword                      location  \\\n",
       "3151  10460  wild%20fires  Where e'er the mood takes me   \n",
       "858    2812       cyclone                           NYC   \n",
       "379    1220      blizzard                       Florida   \n",
       "\n",
       "                                                   text  \n",
       "3151  @MrRat395 Are those wild fires getting anywher...  \n",
       "858                     @orochinagicom GIGATECH CYCLONE  \n",
       "379   Whoa! This new legend will be fun! http://t.co...  "
      ]
     },
     "execution_count": 3,
     "metadata": {},
     "output_type": "execute_result"
    }
   ],
   "source": [
    "test_data = pd.read_csv(\"data/test.csv\")\n",
    "print(test_data.shape)\n",
    "test_data.sample(3)"
   ]
  },
  {
   "cell_type": "code",
   "execution_count": 4,
   "id": "688e55e0-39a1-46a0-9a10-f9ec6b12917b",
   "metadata": {},
   "outputs": [
    {
     "name": "stdout",
     "output_type": "stream",
     "text": [
      "(10876, 6)\n"
     ]
    },
    {
     "data": {
      "text/html": [
       "<div>\n",
       "<style scoped>\n",
       "    .dataframe tbody tr th:only-of-type {\n",
       "        vertical-align: middle;\n",
       "    }\n",
       "\n",
       "    .dataframe tbody tr th {\n",
       "        vertical-align: top;\n",
       "    }\n",
       "\n",
       "    .dataframe thead th {\n",
       "        text-align: right;\n",
       "    }\n",
       "</style>\n",
       "<table border=\"1\" class=\"dataframe\">\n",
       "  <thead>\n",
       "    <tr style=\"text-align: right;\">\n",
       "      <th></th>\n",
       "      <th>id</th>\n",
       "      <th>keyword</th>\n",
       "      <th>location</th>\n",
       "      <th>text</th>\n",
       "      <th>target</th>\n",
       "      <th>Dataset</th>\n",
       "    </tr>\n",
       "  </thead>\n",
       "  <tbody>\n",
       "    <tr>\n",
       "      <th>1529</th>\n",
       "      <td>2211</td>\n",
       "      <td>chemical%20emergency</td>\n",
       "      <td>Virginia, United States</td>\n",
       "      <td>#Illinois: Emergency units simulate a chemical...</td>\n",
       "      <td>1.0</td>\n",
       "      <td>Training</td>\n",
       "    </tr>\n",
       "    <tr>\n",
       "      <th>7013</th>\n",
       "      <td>10054</td>\n",
       "      <td>twister</td>\n",
       "      <td>Downtown Oklahoma City</td>\n",
       "      <td>@TheBuffShow @TheTwisterOkc My boyfriend wants...</td>\n",
       "      <td>0.0</td>\n",
       "      <td>Training</td>\n",
       "    </tr>\n",
       "    <tr>\n",
       "      <th>4446</th>\n",
       "      <td>6328</td>\n",
       "      <td>hostage</td>\n",
       "      <td>Australia</td>\n",
       "      <td>New ISIS Video: ISIS Threatens to Behead Croat...</td>\n",
       "      <td>1.0</td>\n",
       "      <td>Training</td>\n",
       "    </tr>\n",
       "  </tbody>\n",
       "</table>\n",
       "</div>"
      ],
      "text/plain": [
       "         id               keyword                 location  \\\n",
       "1529   2211  chemical%20emergency  Virginia, United States   \n",
       "7013  10054               twister   Downtown Oklahoma City   \n",
       "4446   6328               hostage               Australia    \n",
       "\n",
       "                                                   text  target   Dataset  \n",
       "1529  #Illinois: Emergency units simulate a chemical...     1.0  Training  \n",
       "7013  @TheBuffShow @TheTwisterOkc My boyfriend wants...     0.0  Training  \n",
       "4446  New ISIS Video: ISIS Threatens to Behead Croat...     1.0  Training  "
      ]
     },
     "execution_count": 4,
     "metadata": {},
     "output_type": "execute_result"
    }
   ],
   "source": [
    "train_data['Dataset'] = 'Training'\n",
    "test_data['Dataset'] = 'Testing'\n",
    "data = pd.concat([train_data, test_data], ignore_index=True)\n",
    "print(data.shape)\n",
    "data.sample(3)"
   ]
  },
  {
   "cell_type": "markdown",
   "id": "8242a94e-64ff-4541-b270-13dc914cd561",
   "metadata": {},
   "source": [
    "# Análisis exploratorio"
   ]
  },
  {
   "cell_type": "code",
   "execution_count": 5,
   "id": "682f4cd2-3f6d-4fe2-baff-6072c2989669",
   "metadata": {},
   "outputs": [
    {
     "data": {
      "text/plain": [
       "id             0\n",
       "keyword       87\n",
       "location    3638\n",
       "text           0\n",
       "target      3263\n",
       "Dataset        0\n",
       "dtype: int64"
      ]
     },
     "execution_count": 5,
     "metadata": {},
     "output_type": "execute_result"
    }
   ],
   "source": [
    "data.isna().sum()"
   ]
  },
  {
   "cell_type": "markdown",
   "id": "1b954b4c-20e3-4c73-baea-a6ce3fb0ccdf",
   "metadata": {},
   "source": [
    "## Keyword\n",
    "\n",
    "A particular keyword from the tweet (may be blank)."
   ]
  },
  {
   "cell_type": "code",
   "execution_count": 6,
   "id": "3e7f795d-2385-4280-91da-6c8475a58cd2",
   "metadata": {
    "scrolled": true,
    "tags": []
   },
   "outputs": [
    {
     "data": {
      "text/plain": [
       "NaN                   87\n",
       "landslide             50\n",
       "lightning             50\n",
       "loud%20bang           50\n",
       "mass%20murder         50\n",
       "massacre              50\n",
       "mayhem                50\n",
       "meltdown              50\n",
       "military              50\n",
       "mudslide              50\n",
       "natural%20disaster    50\n",
       "nuclear%20disaster    50\n",
       "nuclear%20reactor     50\n",
       "obliterate            50\n",
       "obliterated           50\n",
       "obliteration          50\n",
       "oil%20spill           50\n",
       "outbreak              50\n",
       "pandemonium           50\n",
       "panic                 50\n",
       "Name: keyword, dtype: int64"
      ]
     },
     "execution_count": 6,
     "metadata": {},
     "output_type": "execute_result"
    }
   ],
   "source": [
    "data.keyword.value_counts(dropna=False).head(20)"
   ]
  },
  {
   "cell_type": "code",
   "execution_count": 7,
   "id": "f4d4512e-cf8f-4772-a2ba-422b1c602b0b",
   "metadata": {},
   "outputs": [],
   "source": [
    "data['keyword'] = data.keyword.str.replace('%20', ' ')"
   ]
  },
  {
   "cell_type": "markdown",
   "id": "70894d6e-42e1-4ad1-b372-add05e742431",
   "metadata": {},
   "source": [
    "## Location\n",
    "\n",
    "The location the tweet was sent from (may be blank or invented by the user)."
   ]
  },
  {
   "cell_type": "code",
   "execution_count": 9,
   "id": "fe54b0c6-e626-42f5-b466-e56121e975e6",
   "metadata": {
    "scrolled": true,
    "tags": []
   },
   "outputs": [
    {
     "data": {
      "text/plain": [
       "NaN                3638\n",
       "USA                 141\n",
       "New York            109\n",
       "United States        65\n",
       "London               58\n",
       "Canada               42\n",
       "Nigeria              40\n",
       "Worldwide            35\n",
       "India                35\n",
       "Los Angeles, CA      34\n",
       "UK                   33\n",
       "Kenya                32\n",
       "Washington, DC       31\n",
       "Mumbai               28\n",
       "United Kingdom       26\n",
       "California           25\n",
       "Australia            25\n",
       "Los Angeles          24\n",
       "San Francisco        23\n",
       "Chicago, IL          23\n",
       "Name: location, dtype: int64"
      ]
     },
     "execution_count": 9,
     "metadata": {},
     "output_type": "execute_result"
    }
   ],
   "source": [
    "data.location.value_counts(dropna=False).head(20)"
   ]
  },
  {
   "cell_type": "markdown",
   "id": "2233af88-64da-4827-b6b0-e0d2d76eeea9",
   "metadata": {},
   "source": [
    "## Test\n",
    "\n",
    "The text of the tweet."
   ]
  },
  {
   "cell_type": "code",
   "execution_count": 10,
   "id": "5863795b-3650-4294-990b-570363dfad8d",
   "metadata": {},
   "outputs": [
    {
     "data": {
      "image/png": "[encoded data removed]",
      "text/plain": [
       "<Figure size 500x400 with 1 Axes>"
      ]
     },
     "metadata": {},
     "output_type": "display_data"
    }
   ],
   "source": [
    "fig, ax = plt.subplots(figsize=(5,4))\n",
    "sns.histplot(data.text.str.len())\n",
    "ax.set_title('Distribución de frecuencias de la longitud de los tweets');"
   ]
  },
  {
   "cell_type": "markdown",
   "id": "1d92c862-5ede-4e68-a506-a1079b9e784d",
   "metadata": {},
   "source": [
    "## Target\n",
    "\n",
    "It denotes whether a tweet is about a real disaster (1) or not (0). The values are kind of balanced."
   ]
  },
  {
   "cell_type": "code",
   "execution_count": 11,
   "id": "ddfee876-76ae-4508-81d4-0f3ae90030b6",
   "metadata": {},
   "outputs": [
    {
     "data": {
      "image/png": "[encoded data removed]",
      "text/plain": [
       "<Figure size 500x400 with 1 Axes>"
      ]
     },
     "metadata": {},
     "output_type": "display_data"
    }
   ],
   "source": [
    "tmp = train_data.target.value_counts().to_frame().reset_index().rename(columns={'index':'Real disaster?', 'target':'Count'})\n",
    "fig, ax = plt.subplots(figsize=(5,4))\n",
    "sns.barplot(tmp, x='Real disaster?', y='Count');"
   ]
  },
  {
   "cell_type": "markdown",
   "id": "96b2547e-ea47-4204-ac7d-b8c9ff2b47e5",
   "metadata": {},
   "source": [
    "# Preparación de los datos"
   ]
  },
  {
   "cell_type": "code",
   "execution_count": 60,
   "id": "fedf0557-e8c4-4eb2-99f9-07aa564b0622",
   "metadata": {},
   "outputs": [],
   "source": [
    "from sklearn.model_selection import train_test_split"
   ]
  },
  {
   "cell_type": "code",
   "execution_count": 61,
   "id": "6d2c5c1d-7ed4-4923-a118-d1cfe9c0ff2f",
   "metadata": {},
   "outputs": [
    {
     "data": {
      "text/plain": [
       "((6090,), (1523,), (3263,), (6090,), (1523,))"
      ]
     },
     "execution_count": 61,
     "metadata": {},
     "output_type": "execute_result"
    }
   ],
   "source": [
    "X_tmp, y_tmp = data.loc[ data.Dataset=='Training', 'text' ], data.loc[ data.Dataset=='Training', 'target' ]\n",
    "X_train, X_val, y_train, y_val = train_test_split(X_tmp, y_tmp, stratify=y_tmp, test_size=0.2, random_state=42)\n",
    "X_test = data.loc[ data.Dataset=='Testing', 'text' ]\n",
    "\n",
    "X_train.shape, X_val.shape, X_test.shape, y_train.shape, y_val.shape"
   ]
  },
  {
   "cell_type": "markdown",
   "id": "c1f55984-7875-4ed0-9f4d-d61cd35e767c",
   "metadata": {},
   "source": [
    "# Baseline model"
   ]
  },
  {
   "cell_type": "code",
   "execution_count": 13,
   "id": "2efec45c-ccd6-41b0-a50d-c201939c0e91",
   "metadata": {},
   "outputs": [
    {
     "name": "stderr",
     "output_type": "stream",
     "text": [
      "2023-01-08 12:24:40.373449: I tensorflow/core/platform/cpu_feature_guard.cc:193] This TensorFlow binary is optimized with oneAPI Deep Neural Network Library (oneDNN) to use the following CPU instructions in performance-critical operations:  AVX2 FMA\n",
      "To enable them in other operations, rebuild TensorFlow with the appropriate compiler flags.\n"
     ]
    }
   ],
   "source": [
    "import tensorflow as tf\n",
    "import tensorflow_hub as hub\n",
    "import tensorflow_text as text\n",
    "from tensorflow.keras.models import Sequential\n",
    "from tensorflow.keras.layers import Dense, Dropout\n",
    "from tensorflow.keras.callbacks import EarlyStopping"
   ]
  },
  {
   "cell_type": "markdown",
   "id": "b95fbc97-1279-4a7e-86a1-33bc39bfea8e",
   "metadata": {},
   "source": [
    "## Testing encoders"
   ]
  },
  {
   "cell_type": "markdown",
   "id": "6751ffd2-afaf-463d-8c26-6605aaac449d",
   "metadata": {},
   "source": [
    "### universal-sentence-encoder"
   ]
  },
  {
   "cell_type": "code",
   "execution_count": 47,
   "id": "76a1dbf2-759e-438b-abd9-4cd67eb62ebb",
   "metadata": {},
   "outputs": [
    {
     "name": "stderr",
     "output_type": "stream",
     "text": [
      "2023-01-06 13:49:53.153921: I tensorflow/core/platform/cpu_feature_guard.cc:193] This TensorFlow binary is optimized with oneAPI Deep Neural Network Library (oneDNN) to use the following CPU instructions in performance-critical operations:  AVX2 FMA\n",
      "To enable them in other operations, rebuild TensorFlow with the appropriate compiler flags.\n"
     ]
    },
    {
     "name": "stdout",
     "output_type": "stream",
     "text": [
      "CPU times: user 13.1 s, sys: 4.73 s, total: 17.8 s\n",
      "Wall time: 39 s\n"
     ]
    }
   ],
   "source": [
    "%%time\n",
    "embed = hub.load(\"https://tfhub.dev/google/universal-sentence-encoder/4\")"
   ]
  },
  {
   "cell_type": "code",
   "execution_count": 48,
   "id": "bf536278-bed0-4cdb-b9c4-0dc476cb3917",
   "metadata": {},
   "outputs": [
    {
     "data": {
      "text/plain": [
       "(array([[0.4892403]], dtype=float32),\n",
       " array([[0.14636]], dtype=float32),\n",
       " array([[0.45283696]], dtype=float32),\n",
       " array([[0.47080904]], dtype=float32))"
      ]
     },
     "execution_count": 48,
     "metadata": {},
     "output_type": "execute_result"
    }
   ],
   "source": [
    "tensors = embed([\"bananas\", \"grapes\", \"house\", \"building\", \"tree\", \"plants\"])\n",
    "np.inner([tensors[0]], [tensors[1]]), np.inner([tensors[0]], [tensors[2]]), np.inner([tensors[2]], [tensors[3]]), np.inner([tensors[4]], [tensors[5]])"
   ]
  },
  {
   "cell_type": "markdown",
   "id": "57c25e28-ee9f-46db-9fe8-dfb6644122d8",
   "metadata": {},
   "source": [
    "### universal-sentence-encoder-cmlm/en-large"
   ]
  },
  {
   "cell_type": "code",
   "execution_count": 49,
   "id": "d7e749c6-30ca-4d7c-9a74-1c9e971cbefc",
   "metadata": {},
   "outputs": [
    {
     "name": "stdout",
     "output_type": "stream",
     "text": [
      "WARNING:tensorflow:Please fix your imports. Module tensorflow.python.training.tracking.data_structures has been moved to tensorflow.python.trackable.data_structures. The old module will be deleted in version 2.11.\n"
     ]
    },
    {
     "name": "stderr",
     "output_type": "stream",
     "text": [
      "WARNING:tensorflow:Please fix your imports. Module tensorflow.python.training.tracking.data_structures has been moved to tensorflow.python.trackable.data_structures. The old module will be deleted in version 2.11.\n"
     ]
    },
    {
     "name": "stdout",
     "output_type": "stream",
     "text": [
      "CPU times: user 26.1 s, sys: 6.65 s, total: 32.8 s\n",
      "Wall time: 1min 40s\n"
     ]
    }
   ],
   "source": [
    "%%time\n",
    "preprocessor = hub.KerasLayer(\"https://tfhub.dev/tensorflow/bert_en_uncased_preprocess/3\")\n",
    "encoder = hub.KerasLayer(\"https://tfhub.dev/google/universal-sentence-encoder-cmlm/en-large/1\")"
   ]
  },
  {
   "cell_type": "code",
   "execution_count": 50,
   "id": "fd8cfda3-f40d-4033-a5d4-437047010c83",
   "metadata": {},
   "outputs": [
    {
     "data": {
      "text/plain": [
       "(array([[976.92114]], dtype=float32),\n",
       " array([[913.7648]], dtype=float32),\n",
       " array([[1024.3728]], dtype=float32),\n",
       " array([[1000.0454]], dtype=float32))"
      ]
     },
     "execution_count": 50,
     "metadata": {},
     "output_type": "execute_result"
    }
   ],
   "source": [
    "tensors = encoder( preprocessor([\"bananas\", \"grapes\", \"house\", \"building\", \"tree\", \"plants\"]) )[\"default\"]\n",
    "np.inner([tensors[0]], [tensors[1]]), np.inner([tensors[0]], [tensors[2]]), np.inner([tensors[2]], [tensors[3]]), np.inner([tensors[4]], [tensors[5]])"
   ]
  },
  {
   "cell_type": "markdown",
   "id": "27e47668-906f-4116-b0f8-2c678f08a274",
   "metadata": {},
   "source": [
    "### tf2-preview/nnlm-en-dim128-with-normalization"
   ]
  },
  {
   "cell_type": "code",
   "execution_count": 52,
   "id": "860e4439-d22c-49a8-9572-6620505b5057",
   "metadata": {},
   "outputs": [
    {
     "name": "stdout",
     "output_type": "stream",
     "text": [
      "CPU times: user 5.13 s, sys: 2.33 s, total: 7.47 s\n",
      "Wall time: 16.9 s\n"
     ]
    }
   ],
   "source": [
    "%%time\n",
    "embed = hub.load(\"https://tfhub.dev/google/tf2-preview/nnlm-en-dim128-with-normalization/1\")"
   ]
  },
  {
   "cell_type": "code",
   "execution_count": 55,
   "id": "c3134167-21bd-4efd-b768-7e74599173c2",
   "metadata": {},
   "outputs": [
    {
     "data": {
      "text/plain": [
       "(array([[0.5450651]], dtype=float32),\n",
       " array([[0.07753104]], dtype=float32),\n",
       " array([[0.59674144]], dtype=float32),\n",
       " array([[0.31855476]], dtype=float32),\n",
       " array([[0.47336307]], dtype=float32))"
      ]
     },
     "execution_count": 55,
     "metadata": {},
     "output_type": "execute_result"
    }
   ],
   "source": [
    "tensors = embed([\"bananas\", \"grapes\", \"house\", \"building\", \"tree\", \"plants\"])\n",
    "np.inner([tensors[0]], [tensors[1]]), np.inner([tensors[0]], [tensors[2]]), np.inner([tensors[2]], [tensors[3]]), np.inner([tensors[3]], [tensors[4]]), np.inner([tensors[4]], [tensors[5]])"
   ]
  },
  {
   "cell_type": "markdown",
   "id": "8cdb2602-5ce5-4ca0-b8fc-0472982101cb",
   "metadata": {},
   "source": [
    "### roberta_en_cased_L-24_H-1024_A-16"
   ]
  },
  {
   "cell_type": "code",
   "execution_count": 56,
   "id": "b9d9982d-935b-41e0-ba9a-235090c92384",
   "metadata": {},
   "outputs": [
    {
     "name": "stderr",
     "output_type": "stream",
     "text": [
      "normalizer.cc(51) LOG(INFO) precompiled_charsmap is empty. use identity normalization.\n"
     ]
    },
    {
     "name": "stdout",
     "output_type": "stream",
     "text": [
      "CPU times: user 31.6 s, sys: 7.36 s, total: 39 s\n",
      "Wall time: 1min 17s\n"
     ]
    }
   ],
   "source": [
    "%%time\n",
    "preprocessor = hub.KerasLayer(\"https://tfhub.dev/jeongukjae/roberta_en_cased_preprocess/1\")\n",
    "encoder = hub.KerasLayer(\"https://tfhub.dev/jeongukjae/roberta_en_cased_L-24_H-1024_A-16/1\", trainable=True)"
   ]
  },
  {
   "cell_type": "code",
   "execution_count": 57,
   "id": "b851d459-58e1-4c0d-8fe5-8809648213d0",
   "metadata": {},
   "outputs": [
    {
     "data": {
      "text/plain": [
       "(array([[251.89647]], dtype=float32),\n",
       " array([[251.76776]], dtype=float32),\n",
       " array([[251.4343]], dtype=float32),\n",
       " array([[251.37146]], dtype=float32))"
      ]
     },
     "execution_count": 57,
     "metadata": {},
     "output_type": "execute_result"
    }
   ],
   "source": [
    "tensors = encoder( preprocessor([\"bananas\", \"grapes\", \"house\", \"building\", \"tree\", \"plants\"]) )[\"pooled_output\"]\n",
    "np.inner([tensors[0]], [tensors[1]]), np.inner([tensors[0]], [tensors[2]]), np.inner([tensors[2]], [tensors[3]]), np.inner([tensors[4]], [tensors[5]])"
   ]
  },
  {
   "cell_type": "markdown",
   "id": "9b458ce7-c8d5-48fe-bc22-57812d37124f",
   "metadata": {},
   "source": [
    "## Building model"
   ]
  },
  {
   "cell_type": "code",
   "execution_count": 15,
   "id": "8666f8d9-0d9e-4c5b-be80-4be5fdb5d985",
   "metadata": {},
   "outputs": [
    {
     "name": "stdout",
     "output_type": "stream",
     "text": [
      "Model: \"classifier-disaster-tweets\"\n",
      "_________________________________________________________________\n",
      " Layer (type)                Output Shape              Param #   \n",
      "=================================================================\n",
      " keras_layer_1 (KerasLayer)  (None, 128)               124642688 \n",
      "                                                                 \n",
      " dense_2 (Dense)             (None, 64)                8256      \n",
      "                                                                 \n",
      " dense_3 (Dense)             (None, 1)                 65        \n",
      "                                                                 \n",
      "=================================================================\n",
      "Total params: 124,651,009\n",
      "Trainable params: 8,321\n",
      "Non-trainable params: 124,642,688\n",
      "_________________________________________________________________\n"
     ]
    }
   ],
   "source": [
    "model = Sequential(name=\"classifier-disaster-tweets\")\n",
    "model.add( hub.KerasLayer(\"https://tfhub.dev/google/tf2-preview/nnlm-en-dim128-with-normalization/1\", trainable=False, input_shape=(), dtype=tf.string) )\n",
    "model.add( Dense(64, activation='relu') )\n",
    "model.add( Dense(1, activation='sigmoid') )\n",
    "model.summary()"
   ]
  },
  {
   "cell_type": "code",
   "execution_count": 65,
   "id": "8e96e178-ad2f-466a-94ef-da7f5a2d6268",
   "metadata": {},
   "outputs": [],
   "source": [
    "METRICS = [\n",
    "      'accuracy',\n",
    "      tf.keras.metrics.Precision(name='precision'),\n",
    "      tf.keras.metrics.Recall(name='recall')\n",
    "]\n",
    "\n",
    "model.compile(optimizer='adam', loss='binary_crossentropy', metrics=METRICS)"
   ]
  },
  {
   "cell_type": "code",
   "execution_count": 66,
   "id": "0c8803d5-ff14-4261-b4f4-ba545aa3bbaf",
   "metadata": {
    "scrolled": true,
    "tags": []
   },
   "outputs": [
    {
     "name": "stdout",
     "output_type": "stream",
     "text": [
      "Epoch 1/100\n",
      "191/191 - 3s - loss: 0.5613 - accuracy: 0.7297 - precision: 0.7589 - recall: 0.5438 - val_loss: 0.4687 - val_accuracy: 0.7984 - val_precision: 0.7698 - val_recall: 0.7569 - 3s/epoch - 15ms/step\n",
      "Epoch 2/100\n",
      "191/191 - 1s - loss: 0.4762 - accuracy: 0.7851 - precision: 0.7687 - recall: 0.7149 - val_loss: 0.4447 - val_accuracy: 0.8116 - val_precision: 0.7845 - val_recall: 0.7737 - 875ms/epoch - 5ms/step\n",
      "Epoch 3/100\n",
      "191/191 - 1s - loss: 0.4577 - accuracy: 0.7931 - precision: 0.7805 - recall: 0.7214 - val_loss: 0.4350 - val_accuracy: 0.8201 - val_precision: 0.8156 - val_recall: 0.7508 - 653ms/epoch - 3ms/step\n",
      "Epoch 4/100\n",
      "191/191 - 1s - loss: 0.4493 - accuracy: 0.7975 - precision: 0.7888 - recall: 0.7222 - val_loss: 0.4323 - val_accuracy: 0.8148 - val_precision: 0.7962 - val_recall: 0.7645 - 616ms/epoch - 3ms/step\n",
      "Epoch 5/100\n",
      "191/191 - 1s - loss: 0.4437 - accuracy: 0.7998 - precision: 0.7957 - recall: 0.7188 - val_loss: 0.4294 - val_accuracy: 0.8188 - val_precision: 0.8109 - val_recall: 0.7538 - 614ms/epoch - 3ms/step\n",
      "Epoch 6/100\n",
      "191/191 - 1s - loss: 0.4389 - accuracy: 0.8008 - precision: 0.7980 - recall: 0.7184 - val_loss: 0.4283 - val_accuracy: 0.8234 - val_precision: 0.8192 - val_recall: 0.7554 - 610ms/epoch - 3ms/step\n",
      "Epoch 7/100\n",
      "191/191 - 1s - loss: 0.4332 - accuracy: 0.8038 - precision: 0.8015 - recall: 0.7222 - val_loss: 0.4257 - val_accuracy: 0.8227 - val_precision: 0.8211 - val_recall: 0.7508 - 614ms/epoch - 3ms/step\n",
      "Epoch 8/100\n",
      "191/191 - 0s - loss: 0.4288 - accuracy: 0.8064 - precision: 0.8065 - recall: 0.7230 - val_loss: 0.4277 - val_accuracy: 0.8148 - val_precision: 0.8059 - val_recall: 0.7492 - 467ms/epoch - 2ms/step\n",
      "Epoch 9/100\n",
      "191/191 - 1s - loss: 0.4245 - accuracy: 0.8053 - precision: 0.8062 - recall: 0.7199 - val_loss: 0.4254 - val_accuracy: 0.8234 - val_precision: 0.8371 - val_recall: 0.7309 - 704ms/epoch - 4ms/step\n",
      "Epoch 10/100\n",
      "191/191 - 1s - loss: 0.4199 - accuracy: 0.8112 - precision: 0.8168 - recall: 0.7226 - val_loss: 0.4246 - val_accuracy: 0.8175 - val_precision: 0.8165 - val_recall: 0.7416 - 628ms/epoch - 3ms/step\n",
      "Epoch 11/100\n",
      "191/191 - 0s - loss: 0.4155 - accuracy: 0.8140 - precision: 0.8201 - recall: 0.7264 - val_loss: 0.4305 - val_accuracy: 0.8089 - val_precision: 0.7805 - val_recall: 0.7722 - 379ms/epoch - 2ms/step\n",
      "Epoch 12/100\n",
      "191/191 - 1s - loss: 0.4117 - accuracy: 0.8133 - precision: 0.8190 - recall: 0.7260 - val_loss: 0.4233 - val_accuracy: 0.8207 - val_precision: 0.8234 - val_recall: 0.7416 - 675ms/epoch - 4ms/step\n",
      "Epoch 13/100\n",
      "191/191 - 1s - loss: 0.4064 - accuracy: 0.8179 - precision: 0.8261 - recall: 0.7298 - val_loss: 0.4228 - val_accuracy: 0.8181 - val_precision: 0.8222 - val_recall: 0.7355 - 631ms/epoch - 3ms/step\n",
      "Epoch 14/100\n",
      "191/191 - 0s - loss: 0.4017 - accuracy: 0.8190 - precision: 0.8275 - recall: 0.7314 - val_loss: 0.4230 - val_accuracy: 0.8194 - val_precision: 0.8307 - val_recall: 0.7278 - 352ms/epoch - 2ms/step\n",
      "Epoch 15/100\n",
      "191/191 - 0s - loss: 0.3969 - accuracy: 0.8241 - precision: 0.8370 - recall: 0.7337 - val_loss: 0.4255 - val_accuracy: 0.8260 - val_precision: 0.8530 - val_recall: 0.7187 - 340ms/epoch - 2ms/step\n",
      "Epoch 16/100\n",
      "191/191 - 0s - loss: 0.3922 - accuracy: 0.8291 - precision: 0.8438 - recall: 0.7390 - val_loss: 0.4234 - val_accuracy: 0.8201 - val_precision: 0.8220 - val_recall: 0.7416 - 382ms/epoch - 2ms/step\n",
      "Epoch 17/100\n",
      "191/191 - 1s - loss: 0.3882 - accuracy: 0.8282 - precision: 0.8390 - recall: 0.7428 - val_loss: 0.4226 - val_accuracy: 0.8201 - val_precision: 0.8287 - val_recall: 0.7324 - 653ms/epoch - 3ms/step\n",
      "Epoch 18/100\n",
      "191/191 - 0s - loss: 0.3828 - accuracy: 0.8340 - precision: 0.8503 - recall: 0.7447 - val_loss: 0.4249 - val_accuracy: 0.8188 - val_precision: 0.8193 - val_recall: 0.7416 - 347ms/epoch - 2ms/step\n",
      "Epoch 19/100\n",
      "191/191 - 0s - loss: 0.3796 - accuracy: 0.8337 - precision: 0.8493 - recall: 0.7451 - val_loss: 0.4230 - val_accuracy: 0.8234 - val_precision: 0.8302 - val_recall: 0.7401 - 327ms/epoch - 2ms/step\n",
      "Epoch 20/100\n",
      "191/191 - 0s - loss: 0.3740 - accuracy: 0.8374 - precision: 0.8487 - recall: 0.7566 - val_loss: 0.4258 - val_accuracy: 0.8194 - val_precision: 0.8354 - val_recall: 0.7217 - 334ms/epoch - 2ms/step\n",
      "Epoch 21/100\n",
      "191/191 - 0s - loss: 0.3704 - accuracy: 0.8381 - precision: 0.8520 - recall: 0.7543 - val_loss: 0.4237 - val_accuracy: 0.8207 - val_precision: 0.8348 - val_recall: 0.7263 - 324ms/epoch - 2ms/step\n",
      "Epoch 22/100\n",
      "191/191 - 0s - loss: 0.3648 - accuracy: 0.8433 - precision: 0.8576 - recall: 0.7619 - val_loss: 0.4236 - val_accuracy: 0.8188 - val_precision: 0.8293 - val_recall: 0.7278 - 347ms/epoch - 2ms/step\n",
      "Epoch 23/100\n",
      "191/191 - 0s - loss: 0.3596 - accuracy: 0.8466 - precision: 0.8660 - recall: 0.7608 - val_loss: 0.4261 - val_accuracy: 0.8214 - val_precision: 0.8293 - val_recall: 0.7355 - 362ms/epoch - 2ms/step\n",
      "Epoch 24/100\n",
      "191/191 - 0s - loss: 0.3559 - accuracy: 0.8470 - precision: 0.8646 - recall: 0.7635 - val_loss: 0.4270 - val_accuracy: 0.8201 - val_precision: 0.8310 - val_recall: 0.7294 - 385ms/epoch - 2ms/step\n",
      "Epoch 25/100\n",
      "191/191 - 0s - loss: 0.3500 - accuracy: 0.8507 - precision: 0.8716 - recall: 0.7654 - val_loss: 0.4305 - val_accuracy: 0.8142 - val_precision: 0.7997 - val_recall: 0.7569 - 391ms/epoch - 2ms/step\n",
      "Epoch 26/100\n",
      "191/191 - 0s - loss: 0.3457 - accuracy: 0.8535 - precision: 0.8726 - recall: 0.7719 - val_loss: 0.4291 - val_accuracy: 0.8142 - val_precision: 0.8139 - val_recall: 0.7355 - 342ms/epoch - 2ms/step\n",
      "Epoch 27/100\n",
      "191/191 - 0s - loss: 0.3418 - accuracy: 0.8544 - precision: 0.8732 - recall: 0.7734 - val_loss: 0.4287 - val_accuracy: 0.8162 - val_precision: 0.8159 - val_recall: 0.7385 - 374ms/epoch - 2ms/step\n"
     ]
    },
    {
     "data": {
      "text/plain": [
       "<keras.callbacks.History at 0x7fd32b310970>"
      ]
     },
     "execution_count": 66,
     "metadata": {},
     "output_type": "execute_result"
    }
   ],
   "source": [
    "model.fit(X_train, y_train, validation_data=(X_val, y_val), epochs=100, callbacks=[EarlyStopping(patience=10, restore_best_weights=True)], verbose=2)"
   ]
  },
  {
   "cell_type": "code",
   "execution_count": 68,
   "id": "78dd264e-4220-4072-9eb2-5eeed5d74baa",
   "metadata": {},
   "outputs": [
    {
     "name": "stdout",
     "output_type": "stream",
     "text": [
      "102/102 [==============================] - 0s 1ms/step\n"
     ]
    },
    {
     "data": {
      "text/plain": [
       "array([[0.76305467],\n",
       "       [0.7494567 ],\n",
       "       [0.86283326],\n",
       "       ...,\n",
       "       [0.826724  ],\n",
       "       [0.5960476 ],\n",
       "       [0.6310406 ]], dtype=float32)"
      ]
     },
     "execution_count": 68,
     "metadata": {},
     "output_type": "execute_result"
    }
   ],
   "source": [
    "y_pred = model.predict(X_test)\n",
    "y_pred"
   ]
  },
  {
   "cell_type": "code",
   "execution_count": 77,
   "id": "8c421076-238f-411d-9a3a-d747a4e56352",
   "metadata": {},
   "outputs": [
    {
     "data": {
      "text/plain": [
       "0    2072\n",
       "1    1191\n",
       "dtype: int64"
      ]
     },
     "execution_count": 77,
     "metadata": {},
     "output_type": "execute_result"
    }
   ],
   "source": [
    "solution = pd.Series(y_pred.reshape(1,-1)[0]).apply(lambda prob : 1 if prob>=0.5 else 0)\n",
    "solution.value_counts()"
   ]
  },
  {
   "cell_type": "code",
   "execution_count": 85,
   "id": "d02824eb-e465-41e4-96bc-949cb5bc4b76",
   "metadata": {},
   "outputs": [
    {
     "data": {
      "text/html": [
       "<div>\n",
       "<style scoped>\n",
       "    .dataframe tbody tr th:only-of-type {\n",
       "        vertical-align: middle;\n",
       "    }\n",
       "\n",
       "    .dataframe tbody tr th {\n",
       "        vertical-align: top;\n",
       "    }\n",
       "\n",
       "    .dataframe thead th {\n",
       "        text-align: right;\n",
       "    }\n",
       "</style>\n",
       "<table border=\"1\" class=\"dataframe\">\n",
       "  <thead>\n",
       "    <tr style=\"text-align: right;\">\n",
       "      <th></th>\n",
       "      <th>id</th>\n",
       "      <th>target</th>\n",
       "    </tr>\n",
       "  </thead>\n",
       "  <tbody>\n",
       "    <tr>\n",
       "      <th>0</th>\n",
       "      <td>0</td>\n",
       "      <td>1</td>\n",
       "    </tr>\n",
       "    <tr>\n",
       "      <th>1</th>\n",
       "      <td>2</td>\n",
       "      <td>1</td>\n",
       "    </tr>\n",
       "    <tr>\n",
       "      <th>2</th>\n",
       "      <td>3</td>\n",
       "      <td>1</td>\n",
       "    </tr>\n",
       "    <tr>\n",
       "      <th>3</th>\n",
       "      <td>9</td>\n",
       "      <td>1</td>\n",
       "    </tr>\n",
       "    <tr>\n",
       "      <th>4</th>\n",
       "      <td>11</td>\n",
       "      <td>1</td>\n",
       "    </tr>\n",
       "    <tr>\n",
       "      <th>5</th>\n",
       "      <td>12</td>\n",
       "      <td>1</td>\n",
       "    </tr>\n",
       "    <tr>\n",
       "      <th>6</th>\n",
       "      <td>21</td>\n",
       "      <td>0</td>\n",
       "    </tr>\n",
       "    <tr>\n",
       "      <th>7</th>\n",
       "      <td>22</td>\n",
       "      <td>0</td>\n",
       "    </tr>\n",
       "    <tr>\n",
       "      <th>8</th>\n",
       "      <td>27</td>\n",
       "      <td>0</td>\n",
       "    </tr>\n",
       "    <tr>\n",
       "      <th>9</th>\n",
       "      <td>29</td>\n",
       "      <td>0</td>\n",
       "    </tr>\n",
       "  </tbody>\n",
       "</table>\n",
       "</div>"
      ],
      "text/plain": [
       "   id  target\n",
       "0   0       1\n",
       "1   2       1\n",
       "2   3       1\n",
       "3   9       1\n",
       "4  11       1\n",
       "5  12       1\n",
       "6  21       0\n",
       "7  22       0\n",
       "8  27       0\n",
       "9  29       0"
      ]
     },
     "execution_count": 85,
     "metadata": {},
     "output_type": "execute_result"
    }
   ],
   "source": [
    "solution = solution.to_frame().rename(columns={0:'target'})\n",
    "solution['id'] = test_data.id\n",
    "solution = solution[['id', 'target']]\n",
    "solution.head(10)"
   ]
  },
  {
   "cell_type": "code",
   "execution_count": 87,
   "id": "d5cad6b6-281e-4f12-abcc-5ca5049f7cd2",
   "metadata": {},
   "outputs": [],
   "source": [
    "solution.to_csv(\"data/solutions/baseline_model_submission.csv\", index=False)"
   ]
  },
  {
   "cell_type": "code",
   "execution_count": null,
   "id": "26d7c682-c19a-4f90-8674-a58f44663e91",
   "metadata": {},
   "outputs": [],
   "source": []
  }
 ],
 "metadata": {
  "kernelspec": {
   "display_name": "Python 3 (ipykernel)",
   "language": "python",
   "name": "python3"
  },
  "language_info": {
   "codemirror_mode": {
    "name": "ipython",
    "version": 3
   },
   "file_extension": ".py",
   "mimetype": "text/x-python",
   "name": "python",
   "nbconvert_exporter": "python",
   "pygments_lexer": "ipython3",
   "version": "3.9.15"
  }
 },
 "nbformat": 4,
 "nbformat_minor": 5
}
